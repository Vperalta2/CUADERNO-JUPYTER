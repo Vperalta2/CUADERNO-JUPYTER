{
 "cells": [
  {
   "cell_type": "markdown",
   "id": "23fe2812-5c13-4a45-8079-3613d8f5a1e1",
   "metadata": {},
   "source": [
    "# Data Science Tools and Ecosystem"
   ]
  },
  {
   "cell_type": "markdown",
   "id": "b5cd1c47-c30f-45db-9978-5a891cebfedf",
   "metadata": {},
   "source": [
    "In this notebook, Data Science Tools and Ecosystem are summarized."
   ]
  },
  {
   "cell_type": "markdown",
   "id": "407ebecf-c512-402a-ad04-924579c9b3a9",
   "metadata": {},
   "source": [
    "Some of the popular languages that Data Scientists use are:\n",
    "\n",
    "1. Python\n",
    "2. R\n",
    "3. Julia"
   ]
  },
  {
   "cell_type": "markdown",
   "id": "2f4d1b23-6bc9-4afa-84f9-f811a0808795",
   "metadata": {},
   "source": [
    "Some of the commonly used libraries used by Data Scientists include:\n",
    "\n",
    "1. NumPy\n",
    "2. Pandas\n",
    "3. Matplotlib"
   ]
  },
  {
   "cell_type": "markdown",
   "id": "71c240b4-94c3-4468-9d7c-4028cf6d0a12",
   "metadata": {},
   "source": [
    "Data Science Tools\n",
    "\n",
    "Jupyter Notebook\n",
    "VSCode (Visual Studio Code)\n",
    "RStudio"
   ]
  },
  {
   "cell_type": "markdown",
   "id": "48b1e930-afee-4f7e-bd7d-fb1a4bc43b7d",
   "metadata": {},
   "source": [
    "### Below are a few examples of evaluating arithmetic expressions in Python\n",
    "\n",
    "```python\n",
    "# Suma\n",
    "result_sum = 5 + 3\n",
    "print(\"Suma:\", result_sum)\n",
    "\n",
    "# Resta\n",
    "result_subtraction = 10 - 4\n",
    "print(\"Resta:\", result_subtraction)\n",
    "\n",
    "# Multiplicación\n",
    "result_multiplication = 6 * 7\n",
    "print(\"Multiplicación:\", result_multiplication)\n",
    "\n",
    "# División\n",
    "result_division = 20 / 5\n",
    "print(\"División:\", result_division)\n"
   ]
  },
  {
   "cell_type": "code",
   "execution_count": null,
   "id": "b26f0e11-6ed1-4e97-a80d-e8ddf56b0b92",
   "metadata": {},
   "outputs": [],
   "source": [
    "# This is a simple arithmetic expression to multiply then add integers.\n",
    "resultado = (3 * 4) + 5\n",
    "print(resultado)  # Salida esperada: 17\n"
   ]
  },
  {
   "cell_type": "code",
   "execution_count": null,
   "id": "ec798c29-3d2e-46a3-8fd7-9bd577a8d476",
   "metadata": {},
   "outputs": [],
   "source": [
    "# This will convert 200 minutes to hours by dividing by 60.\n",
    "resultado_horas = 200 / 60\n",
    "print(resultado_horas)  # Salida esperada: 3.3333333333333335\n"
   ]
  },
  {
   "cell_type": "code",
   "execution_count": null,
   "id": "f99d1ead-ed1d-49f9-b434-d468519e2a6e",
   "metadata": {},
   "outputs": [],
   "source": [
    "**Objectives:**\n",
    "\n",
    "- Listar lenguajes populares para Ciencia de Datos.\n",
    "- Enumerar bibliotecas comúnmente utilizadas por Científicos de Datos.\n",
    "- Presentar ejemplos de evaluación de expresiones aritméticas en Python.\n",
    "- Realizar operaciones aritméticas básicas en una celda de código.\n",
    "- Convertir minutos a horas utilizando expresiones aritméticas.\n",
    "\n",
    "Estos son algunos de los objetivos cubiertos en este cuaderno.\n"
   ]
  },
  {
   "cell_type": "markdown",
   "id": "4bcd2e60-7771-4e48-a0ba-4f8e1ad893eb",
   "metadata": {},
   "source": [
    "## Author\n",
    "\n",
    "Este cuaderno fue creado por [VICTOR PERALTA].\n"
   ]
  }
 ],
 "metadata": {
  "kernelspec": {
   "display_name": "Python 3 (ipykernel)",
   "language": "python",
   "name": "python3"
  },
  "language_info": {
   "codemirror_mode": {
    "name": "ipython",
    "version": 3
   },
   "file_extension": ".py",
   "mimetype": "text/x-python",
   "name": "python",
   "nbconvert_exporter": "python",
   "pygments_lexer": "ipython3",
   "version": "3.11.5"
  }
 },
 "nbformat": 4,
 "nbformat_minor": 5
}
